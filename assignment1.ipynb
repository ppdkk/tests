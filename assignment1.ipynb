{
 "cells": [
  {
   "cell_type": "markdown",
   "metadata": {
    "deletable": false,
    "editable": false,
    "nbgrader": {
     "cell_type": "markdown",
     "checksum": "cacf7f4360d6d53c622742f64048f72c",
     "grade": false,
     "grade_id": "cell-8a754c8ce8a16eeb",
     "locked": true,
     "schema_version": 3,
     "solution": false,
     "task": false
    },
    "tags": []
   },
   "source": [
    "# Assignment 1\n",
    "\n",
    "In this assignment, you'll be working with messy medical data and using regex to extract relevant infromation from the data. \n",
    "\n",
    "Each line of the `dates.txt` file corresponds to a medical note. Each note has a date that needs to be extracted, but each date is encoded in one of many formats.\n",
    "\n",
    "The goal of this assignment is to correctly identify all of the different date variants encoded in this dataset and to properly normalize and sort the dates. \n",
    "\n",
    "Here is a list of some of the variants you might encounter in this dataset:\n",
    "* 04/20/2009; 04/20/09; 4/20/09; 4/3/09\n",
    "* Mar-20-2009; Mar 20, 2009; March 20, 2009;  Mar. 20, 2009; Mar 20 2009;\n",
    "* 20 Mar 2009; 20 March 2009; 20 Mar. 2009; 20 March, 2009\n",
    "* Mar 20th, 2009; Mar 21st, 2009; Mar 22nd, 2009\n",
    "* Feb 2009; Sep 2009; Oct 2010\n",
    "* 6/2008; 12/2009\n",
    "* 2009; 2010\n",
    "\n",
    "Once you have extracted these date patterns from the text, the next step is to sort them in ascending chronological order accoring to the following rules:\n",
    "* Assume all dates in xx/xx/xx format are mm/dd/yy\n",
    "* Assume all dates where year is encoded in only two digits are years from the 1900's (e.g. 1/5/89 is January 5th, 1989)\n",
    "* If the day is missing (e.g. 9/2009), assume it is the first day of the month (e.g. September 1, 2009).\n",
    "* If the month is missing (e.g. 2010), assume it is the first of January of that year (e.g. January 1, 2010).\n",
    "* Watch out for potential typos as this is a raw, real-life derived dataset.\n",
    "\n",
    "With these rules in mind, find the correct date in each note and return a pandas Series in chronological order of the original Series' indices. **This Series should be sorted by a tie-break sort in the format of (\"extracted date\", \"original row number\").**\n",
    "\n",
    "For example if the original series was this:\n",
    "\n",
    "    0    1999\n",
    "    1    2010\n",
    "    2    1978\n",
    "    3    2015\n",
    "    4    1985\n",
    "\n",
    "Your function should return this:\n",
    "\n",
    "    0    2\n",
    "    1    4\n",
    "    2    0\n",
    "    3    1\n",
    "    4    3\n",
    "\n",
    "Your score will be calculated using [Kendall's tau](https://en.wikipedia.org/wiki/Kendall_rank_correlation_coefficient), a correlation measure for ordinal data.\n",
    "\n",
    "*This function should return a Series of length 500 and dtype int.*"
   ]
  },
  {
   "cell_type": "code",
   "execution_count": 1,
   "metadata": {
    "deletable": false,
    "editable": false,
    "nbgrader": {
     "cell_type": "code",
     "checksum": "4b47ce38a503bfb1f113580f394d8667",
     "grade": false,
     "grade_id": "cell-28048f36edc32946",
     "locked": true,
     "schema_version": 3,
     "solution": false,
     "task": false
    }
   },
   "outputs": [
    {
     "data": {
      "text/plain": [
       "0         03/25/93 Total time of visit (in minutes):\\n\n",
       "1                       6/18/85 Primary Care Doctor:\\n\n",
       "2    sshe plans to move as of 7/8/71 In-Home Servic...\n",
       "3                7 on 9/27/75 Audit C Score Current:\\n\n",
       "4    2/6/96 sleep studyPain Treatment Pain Level (N...\n",
       "5                    .Per 7/06/79 Movement D/O note:\\n\n",
       "6    4, 5/18/78 Patient's thoughts about current su...\n",
       "7    10/24/89 CPT Code: 90801 - Psychiatric Diagnos...\n",
       "8                         3/7/86 SOS-10 Total Score:\\n\n",
       "9             (4/10/71)Score-1Audit C Score Current:\\n\n",
       "dtype: object"
      ]
     },
     "execution_count": 1,
     "metadata": {},
     "output_type": "execute_result"
    }
   ],
   "source": [
    "import pandas as pd\n",
    "\n",
    "doc = []\n",
    "with open('assets/dates.txt') as file:\n",
    "    for line in file:\n",
    "        doc.append(line)\n",
    "\n",
    "df = pd.Series(doc)\n",
    "df.head(10)"
   ]
  },
  {
   "cell_type": "code",
   "execution_count": 2,
   "metadata": {
    "deletable": false,
    "nbgrader": {
     "cell_type": "code",
     "checksum": "3e58e227860ae4b02d6bdddd81506787",
     "grade": false,
     "grade_id": "cell-d6f35a51303ed6ff",
     "locked": false,
     "schema_version": 3,
     "solution": true,
     "task": false
    }
   },
   "outputs": [
    {
     "data": {
      "text/plain": [
       "0        9\n",
       "1       84\n",
       "2        2\n",
       "3       53\n",
       "4       28\n",
       "      ... \n",
       "495    427\n",
       "496    141\n",
       "497    186\n",
       "498    161\n",
       "499    413\n",
       "Length: 500, dtype: int64"
      ]
     },
     "execution_count": 2,
     "metadata": {},
     "output_type": "execute_result"
    }
   ],
   "source": [
    "import numpy as np\n",
    "from datetime import datetime\n",
    "def date_sorter():\n",
    "    \n",
    "    cond11 =df.str.extractall(r'(\\d{1,2})[/-](\\d{1,2})[/-](\\d{2})\\b')\n",
    "    cond12 =df.str.extractall(r'(\\d{1,2})[/-](\\d{1,2})[/-](\\d{4})\\b')\n",
    "    cond1 = pd.concat([cond11,cond12])\n",
    "    cond1.reset_index(inplace=True)\n",
    "    cond1_id = cond1['level_0']\n",
    "    #return cond1\n",
    "    \n",
    "    cond2 = df.str.extractall(r'((?:Jan|Feb|Mar|Apr|May|Jun|Jul|Aug|Sep|Oct|Nov|Dec)[a-z]*[-.]* )((?:\\d{1,2}[?:, -]*)\\d{4})')\n",
    "    cond2.reset_index(inplace=True)\n",
    "    cond2_id = cond2['level_0']\n",
    "    #return cond2\n",
    "    \n",
    "    cond3 = df.str.extractall(r'((?:\\d{1,2} ))?((?:Jan|Feb|Mar|Apr|May|Jun|Jul|Aug|Sep|Oct|Nov|Dec)[a-z]*[?:, -]* )(\\d{4})')\n",
    "    cond3.reset_index(inplace=True)\n",
    "    cond3_id = cond3['level_0']\n",
    "    #return cond3\n",
    "\n",
    "    cond6 = df.str.extractall(r'(\\d{1,2})[/](\\d{4})')\n",
    "    cond6.reset_index(inplace=True)\n",
    "    cond6_id = cond6['level_0']\n",
    "    save=[]\n",
    "    for i in cond6_id:\n",
    "        if not(i in cond1_id.values):\n",
    "            save.append(i)\n",
    "    save = np.asarray(save)\n",
    "    cond6 = cond6[cond6['level_0'].isin(save)]\n",
    "    cond7_1 = df.str.extractall(r'[a-z]?[^0-9](\\d{4})[^0-9]')\n",
    "    cond7_2 = df.str.extractall(r'^(\\d{4})[^0-9]')\n",
    "    cond7 = pd.concat([cond7_1,cond7_2])\n",
    "    cond7.reset_index(inplace=True)\n",
    "    cond7_id = cond7['level_0']\n",
    "    existed=[]\n",
    "    for i in cond7_id:\n",
    "        if not((i in cond2_id.values) | (i in cond3_id.values) | (i in cond6_id.values)):\n",
    "            existed.append(i)\n",
    "    existed = np.asarray(existed)\n",
    "    cond7 = cond7[cond7['level_0'].isin(existed)]\n",
    "    \n",
    "    s = cond1.level_0.values.tolist()+cond2.level_0.values.tolist()+cond3.level_0.values.tolist()+cond6.level_0.values.tolist()+cond7.level_0.values.tolist()\n",
    "    s = np.asarray(s)\n",
    "    \n",
    "    cond1.columns=['level_0','match','month','day','year']\n",
    "    cond1['year']=cond1['year'].apply(str)\n",
    "    cond1['year']=cond1['year'].apply(lambda x: '19'+x if len(x)<=2 else x)\n",
    "   \n",
    "    cond2[1] = cond2[1].apply(lambda x: x.replace(',',''))\n",
    "    cond2['day'] = cond2[1].apply(lambda x:x.split(' ')[0])\n",
    "    cond2['year'] = cond2[1].apply(lambda x:x.split(' ')[1])\n",
    "    cond2.columns=['level_0','match','month','day-year','day','year']\n",
    "    cond2.drop('day-year',axis=1,inplace=True) \n",
    "    \n",
    "    cond3.columns=['level_0','match','day','month','year']\n",
    "    cond3['day'] = cond3['day'].replace(np.nan,-99)\n",
    "    cond3['day'] = cond3['day'].apply(lambda x: 1 if int(x)==-99 else x)\n",
    "\n",
    "    cond3['month'] = cond3.month.apply(lambda x: x[:3])\n",
    "    cond3['month'] = pd.to_datetime(cond3.month, format='%b').dt.month\n",
    "    \n",
    "    cond6.columns=['level_0','match','month','year']\n",
    "    cond6['day']=1\n",
    "  \n",
    "    cond7.columns=['level_0','match','year']\n",
    "    cond7['day']=1\n",
    "    cond7['month']=1\n",
    "   \n",
    "    final = pd.concat([cond1,cond2,cond3,cond6,cond7])\n",
    "    final['date'] =pd.to_datetime(final['month'].apply(str)+'/'+final['day'].apply(str)+'/'+final['year'].apply(str))\n",
    "    final = final.sort_values(by='level_0').set_index('level_0')\n",
    "    \n",
    "    myList = final['date']\n",
    "    \n",
    "    answer = pd.Series([i[0] for i in sorted(enumerate(myList), key=lambda x:x[1])],np.arange(500))\n",
    "\n",
    "    \n",
    "    return answer\n",
    "date_sorter()"
   ]
  },
  {
   "cell_type": "code",
   "execution_count": null,
   "metadata": {
    "deletable": false,
    "editable": false,
    "nbgrader": {
     "cell_type": "code",
     "checksum": "c0843c1f0ad2aaa45fa9ac4012f1aa43",
     "grade": true,
     "grade_id": "cell-373f878879c00996",
     "locked": true,
     "points": 4,
     "schema_version": 3,
     "solution": false,
     "task": false
    }
   },
   "outputs": [],
   "source": []
  },
  {
   "cell_type": "code",
   "execution_count": null,
   "metadata": {
    "deletable": false,
    "editable": false,
    "nbgrader": {
     "cell_type": "code",
     "checksum": "0e2f5bb6bab79c07a81ec366c46c4d49",
     "grade": true,
     "grade_id": "cell-0ebae76e6cd794be",
     "locked": true,
     "points": 1,
     "schema_version": 3,
     "solution": false,
     "task": false
    }
   },
   "outputs": [],
   "source": []
  },
  {
   "cell_type": "code",
   "execution_count": null,
   "metadata": {},
   "outputs": [],
   "source": []
  },
  {
   "cell_type": "code",
   "execution_count": null,
   "metadata": {},
   "outputs": [],
   "source": []
  }
 ],
 "metadata": {
  "coursera": {
   "course_slug": "python-text-mining",
   "graded_item_id": "LvcWI",
   "launcher_item_id": "krne9",
   "part_id": "Mkp1I"
  },
  "kernelspec": {
   "display_name": "Python 3 (ipykernel)",
   "language": "python",
   "name": "python3"
  },
  "language_info": {
   "codemirror_mode": {
    "name": "ipython",
    "version": 3
   },
   "file_extension": ".py",
   "mimetype": "text/x-python",
   "name": "python",
   "nbconvert_exporter": "python",
   "pygments_lexer": "ipython3",
   "version": "3.9.13"
  },
  "vscode": {
   "interpreter": {
    "hash": "aee8b7b246df8f9039afb4144a1f6fd8d2ca17a180786b69acc140d282b71a49"
   }
  }
 },
 "nbformat": 4,
 "nbformat_minor": 4
}
